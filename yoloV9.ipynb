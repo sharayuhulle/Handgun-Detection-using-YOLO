{
  "cells": [
    {
      "cell_type": "code",
      "execution_count": null,
      "metadata": {
        "colab": {
          "base_uri": "https://localhost:8080/"
        },
        "id": "VW0LC05HnKSJ",
        "outputId": "9485f9f1-539b-4e69-9116-85dc5c0a576c"
      },
      "outputs": [],
      "source": [
        "!nvidia-smi"
      ]
    },
    {
      "cell_type": "code",
      "execution_count": null,
      "metadata": {
        "colab": {
          "base_uri": "https://localhost:8080/"
        },
        "id": "ss_NewZ9uxIe",
        "outputId": "3533dd45-3520-40f7-d252-b360d7577360"
      },
      "outputs": [],
      "source": [
        "from google.colab import drive\n",
        "drive.mount('/content/gdrive')"
      ]
    },
    {
      "cell_type": "code",
      "execution_count": null,
      "metadata": {
        "colab": {
          "base_uri": "https://localhost:8080/"
        },
        "id": "Ab7OeLlhorfk",
        "outputId": "0d031113-a954-4640-f26c-205696c2fdb9"
      },
      "outputs": [],
      "source": [
        "%cd /content/gdrive/MyDrive/project1"
      ]
    },
    {
      "cell_type": "code",
      "execution_count": null,
      "metadata": {
        "colab": {
          "base_uri": "https://localhost:8080/"
        },
        "id": "He31INcioz0K",
        "outputId": "d7c38e00-8235-452f-f392-6bdf8b8fe436"
      },
      "outputs": [],
      "source": [
        "!git clone https://github.com/WongKinyiu/yolov9.git"
      ]
    },
    {
      "cell_type": "code",
      "execution_count": null,
      "metadata": {
        "colab": {
          "base_uri": "https://localhost:8080/"
        },
        "id": "T5dYp_ghpkhS",
        "outputId": "83387874-a32a-42ac-e3cc-a46e70c96678"
      },
      "outputs": [],
      "source": [
        "%cd yolov9\n"
      ]
    },
    {
      "cell_type": "code",
      "execution_count": null,
      "metadata": {
        "colab": {
          "base_uri": "https://localhost:8080/"
        },
        "id": "_cxdYHXcyGDd",
        "outputId": "bdd7099a-8c67-4be8-9425-6ddefec3a621"
      },
      "outputs": [],
      "source": [
        "!pip install -r requirements.txt"
      ]
    },
    {
      "cell_type": "code",
      "execution_count": null,
      "metadata": {
        "colab": {
          "base_uri": "https://localhost:8080/"
        },
        "id": "J3ls3txvxFDz",
        "outputId": "6c33fc97-a94d-49f6-b8d5-847dc0fe202b"
      },
      "outputs": [],
      "source": [
        "!wget -P /content/gdrive/MyDrive/project1/yolov9 https://github.com/WongKinYiu/yolov9/releases/download/v0.1/yolov9-c.pt\n",
        "\n",
        "!wget -P /content/gdrive/MyDrive/project1/yolov9 https://github.com/WongKinYiu/yolov9/releases/download/v0.1/yolov9-e.pt"
      ]
    },
    {
      "cell_type": "code",
      "execution_count": null,
      "metadata": {
        "colab": {
          "base_uri": "https://localhost:8080/",
          "height": 327
        },
        "id": "aHiTFG0lUZdm",
        "outputId": "646bfdb0-f51f-4ab5-b3d1-710dffe73b6c"
      },
      "outputs": [],
      "source": [
        "from zipfile import ZipFile\n",
        "\n",
        "extract_path = '/content/gdrive/MyDrive/project1/yolov9/pistol_dataset'\n",
        "with ZipFile('/content/gdrive/MyDrive/project1/Pistols.v1-resize-416x416.yolov8.zip','r') as zipObj:\n",
        "  zipObj.extractall(extract_path)"
      ]
    },
    {
      "cell_type": "code",
      "execution_count": null,
      "metadata": {
        "colab": {
          "base_uri": "https://localhost:8080/"
        },
        "id": "JIGxafaDJUzb",
        "outputId": "c8cb8a52-6653-42fd-a81f-876bca10ee0f"
      },
      "outputs": [],
      "source": [
        "pip install split-folders[full]"
      ]
    },
    {
      "cell_type": "code",
      "execution_count": null,
      "metadata": {
        "id": "Fa4i7Pf6y_6l"
      },
      "outputs": [],
      "source": [
        "import os\n",
        "from PIL import Image\n",
        "import numpy as np\n",
        "\n",
        "# Load images\n",
        "X_images = []\n",
        "for img_path in os.listdir(os.path.join('/content/drive/MyDrive/project1/yolov9/pistol_dataset/export/images')):\n",
        "    img = Image.open(os.path.join('/content/drive/MyDrive/project1/yolov9/pistol_dataset/export/images', img_path))\n",
        "    X_images.append(np.array(img))\n",
        "\n",
        "# Load labels\n",
        "y_labels = []\n",
        "for label_path in os.listdir(os.path.join('/content/drive/MyDrive/project1/yolov9/pistol_dataset/export/labels')):\n",
        "    with open(os.path.join('/content/drive/MyDrive/project1/yolov9/pistol_dataset/export/labels', label_path), 'r') as f:\n",
        "        y_labels.append(f.read().strip())\n"
      ]
    },
    {
      "cell_type": "code",
      "execution_count": null,
      "metadata": {
        "id": "DNGNA1V2zixo"
      },
      "outputs": [],
      "source": [
        "from sklearn.model_selection import train_test_split\n",
        "\n",
        "# Assuming you have loaded images into X_images and labels into y_labels\n",
        "X_train_images, X_test_images, y_train_labels, y_test_labels = train_test_split(X_images, y_labels, test_size=0.2, random_state=42)\n",
        "X_train_images, X_val_images, y_train_labels, y_val_labels = train_test_split(X_train_images, y_train_labels, test_size=0.25, random_state=42)\n"
      ]
    },
    {
      "cell_type": "code",
      "execution_count": null,
      "metadata": {
        "id": "tIRPCS0dzqhr"
      },
      "outputs": [],
      "source": [
        "import os\n",
        "\n",
        "# Create directories\n",
        "os.makedirs('/content/drive/MyDrive/project1/yolov9/dataset/images/train', exist_ok=True)\n",
        "os.makedirs('/content/drive/MyDrive/project1/yolov9/dataset/images/val', exist_ok=True)\n",
        "os.makedirs('/content/drive/MyDrive/project1/yolov9/dataset/images/test', exist_ok=True)\n",
        "os.makedirs('/content/drive/MyDrive/project1/yolov9/dataset/labels/train', exist_ok=True)\n",
        "os.makedirs('/content/drive/MyDrive/project1/yolov9/dataset/labels/val', exist_ok=True)\n",
        "os.makedirs('/content/drive/MyDrive/project1/yolov9/dataset/labels/test', exist_ok=True)\n",
        "\n",
        "# Save the split datasets\n",
        "for i, img in enumerate(X_train_images):\n",
        "    Image.fromarray(img).save(os.path.join('/content/drive/MyDrive/project1/yolov9/dataset/images/train', f'image_{i}.jpg'))\n",
        "    with open(os.path.join('/content/drive/MyDrive/project1/yolov9/dataset/labels/train', f'label_{i}.txt'), 'w') as f:\n",
        "        f.write(y_train_labels[i])\n",
        "\n",
        "# Repeat the process for the validation and test sets\n"
      ]
    },
    {
      "cell_type": "code",
      "execution_count": null,
      "metadata": {
        "id": "umwKeH2Mz_Xb"
      },
      "outputs": [],
      "source": [
        "\n",
        "for i, img in enumerate(X_test_images):\n",
        "    Image.fromarray(img).save(os.path.join('/content/drive/MyDrive/project1/yolov9/dataset/images/test', f'image_{i}.jpg'))\n",
        "    with open(os.path.join('/content/drive/MyDrive/project1/yolov9/dataset/labels/test', f'label_{i}.txt'), 'w') as f:\n",
        "        f.write(y_test_labels[i])\n",
        "\n",
        "for i, img in enumerate(X_val_images):\n",
        "    Image.fromarray(img).save(os.path.join('/content/drive/MyDrive/project1/yolov9/dataset/images/val', f'image_{i}.jpg'))\n",
        "    with open(os.path.join('/content/drive/MyDrive/project1/yolov9/dataset/labels/val', f'label_{i}.txt'), 'w') as f:\n",
        "        f.write(y_val_labels[i])"
      ]
    },
    {
      "cell_type": "code",
      "execution_count": null,
      "metadata": {
        "id": "_gNeSwOfq-qS"
      },
      "outputs": [],
      "source": [
        "import os\n",
        "import shutil\n",
        "\n",
        "\n",
        "new_base_dir = '/content/gdrive/MyDrive/project1/yolov9/dataset1'\n",
        "\n",
        "# Create new directories\n",
        "for folder in ['train', 'test', 'val']:\n",
        "    os.makedirs(os.path.join(new_base_dir,folder,'images'), exist_ok=True)\n",
        "    os.makedirs(os.path.join(new_base_dir,folder,'labels'), exist_ok=True)\n",
        "\n",
        "\n"
      ]
    },
    {
      "cell_type": "code",
      "execution_count": null,
      "metadata": {
        "id": "m1-zTbYhv9gU"
      },
      "outputs": [],
      "source": [
        "import os\n",
        "import shutil\n",
        "\n",
        "# Define the source and destination paths\n",
        "src_images = '/content/gdrive/MyDrive/project1/yolov9/dataset/images/test'\n",
        "src_labels = '/content/gdrive/MyDrive/project1/yolov9/dataset/labels/test'\n",
        "dst_images = '/content/gdrive/MyDrive/project1/yolov9/dataset1/test/images'\n",
        "dst_labels = '/content/gdrive/MyDrive/project1/yolov9/dataset1/test/labels'\n",
        "\n",
        "\n",
        "# Iterate through the files in the source directories\n",
        "for filename in os.listdir(src_images):\n",
        "    # Move the image file\n",
        "    src_image_path = os.path.join(src_images, filename)\n",
        "    dst_image_path = os.path.join(dst_images, filename)\n",
        "    shutil.move(src_image_path, dst_image_path)\n",
        "\n",
        "\n",
        "\n",
        "\n"
      ]
    },
    {
      "cell_type": "code",
      "execution_count": null,
      "metadata": {
        "id": "uWKpMX1eSilh"
      },
      "outputs": [],
      "source": [
        "import os\n",
        "import shutil\n",
        "\n",
        "src_labels = '/content/gdrive/MyDrive/project1/yolov9/dataset/labels/test'\n",
        "dst_labels = '/content/gdrive/MyDrive/project1/yolov9/dataset1/test/labels'\n",
        "\n",
        "for label_filename in os.listdir(src_labels):\n",
        "\n",
        "    src_label_path = os.path.join(src_labels, label_filename)\n",
        "    dst_label_path = os.path.join(dst_labels, label_filename.replace('label_', 'image_'))\n",
        "    shutil.move(src_label_path, dst_label_path)"
      ]
    },
    {
      "cell_type": "code",
      "execution_count": null,
      "metadata": {
        "id": "Fx1ORc-ETlaf"
      },
      "outputs": [],
      "source": [
        "import os\n",
        "import shutil\n",
        "\n",
        "# Define the source and destination paths\n",
        "src_images = '/content/gdrive/MyDrive/project1/yolov9/dataset/images/train'\n",
        "src_labels = '/content/gdrive/MyDrive/project1/yolov9/dataset/labels/train'\n",
        "dst_images = '/content/gdrive/MyDrive/project1/yolov9/dataset1/train/images'\n",
        "dst_labels = '/content/gdrive/MyDrive/project1/yolov9/dataset1/train/labels'\n",
        "\n",
        "\n",
        "# Iterate through the files in the source directories\n",
        "for filename in os.listdir(src_images):\n",
        "    # Move the image file\n",
        "    src_image_path = os.path.join(src_images, filename)\n",
        "    dst_image_path = os.path.join(dst_images, filename)\n",
        "    shutil.move(src_image_path, dst_image_path)\n",
        "\n",
        "\n",
        "\n",
        "\n"
      ]
    },
    {
      "cell_type": "code",
      "execution_count": null,
      "metadata": {
        "id": "XO71y19pT2qR"
      },
      "outputs": [],
      "source": [
        "import os\n",
        "import shutil\n",
        "\n",
        "src_labels = '/content/gdrive/MyDrive/project1/yolov9/dataset/labels/train'\n",
        "dst_labels = '/content/gdrive/MyDrive/project1/yolov9/dataset1/train/labels'\n",
        "\n",
        "for label_filename in os.listdir(src_labels):\n",
        "\n",
        "    src_label_path = os.path.join(src_labels, label_filename)\n",
        "    dst_label_path = os.path.join(dst_labels, label_filename.replace('label_', 'image_'))\n",
        "    shutil.move(src_label_path, dst_label_path)\n"
      ]
    },
    {
      "cell_type": "code",
      "execution_count": null,
      "metadata": {
        "id": "C3VyTdjVULZ9"
      },
      "outputs": [],
      "source": [
        "import os\n",
        "import shutil\n",
        "\n",
        "# Define the source and destination paths\n",
        "src_images = '/content/gdrive/MyDrive/project1/yolov9/dataset/images/val'\n",
        "\n",
        "dst_images = '/content/gdrive/MyDrive/project1/yolov9/dataset1/val/images'\n",
        "\n",
        "\n",
        "\n",
        "# Iterate through the files in the source directories\n",
        "for filename in os.listdir(src_images):\n",
        "    # Move the image file\n",
        "    src_image_path = os.path.join(src_images, filename)\n",
        "    dst_image_path = os.path.join(dst_images, filename)\n",
        "    shutil.move(src_image_path, dst_image_path)\n",
        "\n",
        "\n",
        "\n",
        "\n"
      ]
    },
    {
      "cell_type": "code",
      "execution_count": null,
      "metadata": {
        "id": "WcgM0pYmUdXV"
      },
      "outputs": [],
      "source": [
        "import os\n",
        "import shutil\n",
        "\n",
        "src_labels = '/content/gdrive/MyDrive/project1/yolov9/dataset/labels/val'\n",
        "dst_labels = '/content/gdrive/MyDrive/project1/yolov9/dataset1/val/labels'\n",
        "\n",
        "for label_filename in os.listdir(src_labels):\n",
        "\n",
        "    src_label_path = os.path.join(src_labels, label_filename)\n",
        "    dst_label_path = os.path.join(dst_labels, label_filename.replace('label_', 'image_'))\n",
        "    shutil.move(src_label_path, dst_label_path)"
      ]
    },
    {
      "cell_type": "code",
      "execution_count": null,
      "metadata": {
        "id": "38I4RaP3PfX6"
      },
      "outputs": [],
      "source": [
        "# Create the YAML file\n",
        "output_file='/content/gdrive/MyDrive/project1/yolov9/data.yaml'\n",
        "with open(output_file, 'w') as f:\n",
        "    f.write('''\n",
        "    train: /content/gdrive/MyDrive/project1/yolov9/dataset/train\n",
        "    val: /content/gdrive/MyDrive/project1/yolov9/dataset/val\n",
        "    test: /content/gdrive/MyDrive/project1/yolov9/dataset/test\n",
        "\n",
        "    nc: 1\n",
        "    names: ['pistol']\n",
        "    ''')"
      ]
    },
    {
      "cell_type": "code",
      "execution_count": null,
      "metadata": {
        "colab": {
          "base_uri": "https://localhost:8080/"
        },
        "id": "EHGNgWz3XUYy",
        "outputId": "3e2dba5e-5272-4291-a2ca-fff3f2f57f4e"
      },
      "outputs": [],
      "source": [
        "# Print the contents of the YAML file\n",
        "output_file='/content/drive/MyDrive/project1/yolov9/data.yaml'\n",
        "with open(output_file, 'r') as f:\n",
        "    print(f.read())"
      ]
    },
    {
      "cell_type": "code",
      "execution_count": null,
      "metadata": {
        "colab": {
          "base_uri": "https://localhost:8080/"
        },
        "id": "x4rg2voLhn7_",
        "outputId": "d8e7c742-4c8f-49b5-efc0-d7d1434efe7e"
      },
      "outputs": [],
      "source": [
        "cd /content/drive/MyDrive/project1/yolov9\n"
      ]
    },
    {
      "cell_type": "code",
      "execution_count": null,
      "metadata": {
        "colab": {
          "base_uri": "https://localhost:8080/"
        },
        "id": "TA5DaaURfJhx",
        "outputId": "d16e1125-ad6b-4148-f95f-cca42e91d11d"
      },
      "outputs": [],
      "source": [
        "!python /content/gdrive/MyDrive/project1/yolov9/train_dual.py --workers 8 --batch 4  --img 640 --epochs 45 --data /content/gdrive/MyDrive/project1/yolov9/data.yaml --weights /content/gdrive/MyDrive/project1/yolov9/yolov9-e.pt --device 0 --cfg /content/gdrive/MyDrive/project1/yolov9/models/detect/yolov9_custom.yaml --hyp /content/gdrive/MyDrive/project1/yolov9/data/hyps/hyp.scratch-high.yaml"
      ]
    },
    {
      "cell_type": "code",
      "execution_count": null,
      "metadata": {
        "colab": {
          "base_uri": "https://localhost:8080/"
        },
        "id": "ANVqPwJZjSWW",
        "outputId": "658cf4b7-9aca-4e6f-cc33-2b2bdbc5a5bf"
      },
      "outputs": [],
      "source": [
        "!python /content/drive/MyDrive/project1/yolov9/detect_dual.py --img 1280 --conf 0.1 --device 0 --weights /content/drive/MyDrive/project1/yolov9/runs/train/exp8/weights/best.pt --source /content/drive/MyDrive/project1/pistol_test_image.jpg"
      ]
    },
    {
      "cell_type": "code",
      "execution_count": null,
      "metadata": {
        "colab": {
          "base_uri": "https://localhost:8080/"
        },
        "id": "62nMmuB20QmQ",
        "outputId": "ba27c4e4-ba1c-4d11-9445-de0ca32ff8b0"
      },
      "outputs": [],
      "source": [
        "!python /content/drive/MyDrive/project1/yolov9/detect_dual.py --img 1280 --conf 0.1 --device 0 --weights /content/drive/MyDrive/project1/yolov9/runs/train/exp8/weights/best.pt --source /content/drive/MyDrive/project/video/900-1_900-2278-PD2_preview.mp4"
      ]
    },
    {
      "cell_type": "code",
      "execution_count": null,
      "metadata": {
        "colab": {
          "base_uri": "https://localhost:8080/"
        },
        "id": "LO7OWKuP2Ni8",
        "outputId": "b7c29e0e-c227-4a50-bee0-c7bc42a19ae6"
      },
      "outputs": [],
      "source": [
        "!python /content/drive/MyDrive/project1/yolov9/detect_dual.py --img 1280 --conf 0.1 --device 0 --weights /content/drive/MyDrive/project1/yolov9/runs/train/exp8/weights/best.pt --source /content/drive/MyDrive/project/video/900-1_900-2313-PD2_preview.mp4"
      ]
    },
    {
      "cell_type": "code",
      "execution_count": null,
      "metadata": {
        "colab": {
          "base_uri": "https://localhost:8080/"
        },
        "id": "JEr4sGFr22eJ",
        "outputId": "ca3067c8-45dd-4323-afbd-053a8d78b04c"
      },
      "outputs": [],
      "source": [
        "!python /content/drive/MyDrive/project1/yolov9/detect_dual.py --img 1280 --conf 0.3 --device 0 --weights /content/drive/MyDrive/project1/yolov9/runs/train/exp8/weights/best.pt --source /content/drive/MyDrive/project/video/900-1_900-2313-PD2_preview.mp4"
      ]
    },
    {
      "cell_type": "code",
      "execution_count": null,
      "metadata": {
        "colab": {
          "base_uri": "https://localhost:8080/"
        },
        "id": "oXVB20XP3qks",
        "outputId": "ae02d9fd-4c72-403e-c79c-76de2bb305f1"
      },
      "outputs": [],
      "source": [
        "!python /content/drive/MyDrive/project1/yolov9/detect_dual.py --img 1280 --conf 0.2 --device 0 --weights /content/drive/MyDrive/project1/yolov9/runs/train/exp8/weights/last.pt --source /content/drive/MyDrive/project/video/900-1_900-2278-PD2_preview.mp4"
      ]
    },
    {
      "cell_type": "code",
      "execution_count": null,
      "metadata": {
        "colab": {
          "base_uri": "https://localhost:8080/"
        },
        "id": "0nB235xW3wpe",
        "outputId": "69fb6570-fe7e-4b38-d731-272ea4c268a1"
      },
      "outputs": [],
      "source": [
        "!python /content/drive/MyDrive/project1/yolov9/detect_dual.py --img 1280 --conf 0.2 --device 0 --weights /content/drive/MyDrive/project1/yolov9/runs/train/exp8/weights/best.pt --source /content/drive/MyDrive/project1/test_2.jpeg"
      ]
    },
    {
      "cell_type": "code",
      "execution_count": null,
      "metadata": {
        "colab": {
          "base_uri": "https://localhost:8080/"
        },
        "id": "k-AK_4JnlpNj",
        "outputId": "b03fb031-312d-41a7-cc5d-dc8b9c219efa"
      },
      "outputs": [],
      "source": [
        "!python /content/drive/MyDrive/project1/yolov9/detect_dual.py --img 1280 --conf 0.2 --device 0 --weights /content/drive/MyDrive/project1/yolov9/runs/train/exp8/weights/best.pt --source /content/drive/MyDrive/project1/armas.jpg"
      ]
    },
    {
      "cell_type": "code",
      "execution_count": null,
      "metadata": {
        "colab": {
          "base_uri": "https://localhost:8080/"
        },
        "id": "dZEAsvO9mSrf",
        "outputId": "7797faa5-7af4-4314-eea0-639f0f63e54a"
      },
      "outputs": [],
      "source": [
        "!python /content/drive/MyDrive/project1/yolov9/detect_dual.py --img 1280 --conf 0.15 --device 0 --weights /content/drive/MyDrive/project1/yolov9/runs/train/exp8/weights/best.pt --source /content/drive/MyDrive/project1/test3img.jpeg"
      ]
    },
    {
      "cell_type": "code",
      "execution_count": null,
      "metadata": {
        "colab": {
          "base_uri": "https://localhost:8080/"
        },
        "id": "M3QmuaUlWyeh",
        "outputId": "31110831-d973-4e0d-b279-b0bb617deda8"
      },
      "outputs": [],
      "source": [
        "!python /content/drive/MyDrive/project1/yolov9/detect_dual.py --img 1280 --conf 0.15 --device 0 --weights /content/drive/MyDrive/project1/yolov9/runs/train/exp8/weights/best.pt --source /content/drive/MyDrive/project1/yolov9/p1.jpg"
      ]
    },
    {
      "cell_type": "code",
      "execution_count": null,
      "metadata": {
        "colab": {
          "base_uri": "https://localhost:8080/"
        },
        "id": "CNYdoxJ8Yli5",
        "outputId": "ca5915d4-64b4-4516-9f45-12922b6fb084"
      },
      "outputs": [],
      "source": [
        "!python /content/drive/MyDrive/project1/yolov9/detect_dual.py --img 1280 --conf 0.15 --device 0 --weights /content/drive/MyDrive/project1/yolov9/runs/train/exp8/weights/best.pt --source /content/drive/MyDrive/project1/yolov9/p2.jpg"
      ]
    },
    {
      "cell_type": "code",
      "execution_count": null,
      "metadata": {
        "colab": {
          "base_uri": "https://localhost:8080/"
        },
        "id": "3rP4_wSTYmnq",
        "outputId": "243b41a9-a5a7-436f-8566-30d86473fd73"
      },
      "outputs": [],
      "source": [
        "!python /content/drive/MyDrive/project1/yolov9/detect_dual.py --img 1280 --conf 0.15 --device 0 --weights /content/drive/MyDrive/project1/yolov9/runs/train/exp8/weights/best.pt --source /content/drive/MyDrive/project1/yolov9/p3.jpg"
      ]
    },
    {
      "cell_type": "code",
      "execution_count": null,
      "metadata": {
        "colab": {
          "base_uri": "https://localhost:8080/"
        },
        "id": "8psriD9Yaoy4",
        "outputId": "df819309-6779-4ec3-c4ad-4cb7b86d9ea5"
      },
      "outputs": [],
      "source": [
        "!python /content/gdrive/MyDrive/project1/yolov9/detect_dual.py --img 1280 --conf 0.15 --device 0 --weights /content/gdrive/MyDrive/project1/yolov9/runs/train/exp8/weights/best.pt --source /content/gdrive/MyDrive/project/video/900-1_900-2313-PD2_preview.mp4"
      ]
    },
    {
      "cell_type": "code",
      "execution_count": null,
      "metadata": {
        "colab": {
          "base_uri": "https://localhost:8080/"
        },
        "id": "DBFZf1H4Aftk",
        "outputId": "b37f3b95-0941-4977-efba-622fe882c65c"
      },
      "outputs": [],
      "source": [
        "!python /content/drive/MyDrive/project1/yolov9/detect_dual.py --img 1280 --conf 0.15 --device 0 --weights /content/drive/MyDrive/project1/yolov9/runs/train/exp8/weights/best.pt --source /content/drive/MyDrive/project/video/900-1_900-2294-PD2_preview.mp4"
      ]
    }
  ],
  "metadata": {
    "accelerator": "GPU",
    "colab": {
      "gpuType": "T4",
      "provenance": []
    },
    "kernelspec": {
      "display_name": "Python 3",
      "name": "python3"
    },
    "language_info": {
      "name": "python"
    }
  },
  "nbformat": 4,
  "nbformat_minor": 0
}
